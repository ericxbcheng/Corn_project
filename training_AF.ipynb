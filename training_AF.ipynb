{
 "metadata": {
  "language_info": {
   "codemirror_mode": {
    "name": "ipython",
    "version": 3
   },
   "file_extension": ".py",
   "mimetype": "text/x-python",
   "name": "python",
   "nbconvert_exporter": "python",
   "pygments_lexer": "ipython3",
   "version": "3.8.3-final"
  },
  "orig_nbformat": 2,
  "kernelspec": {
   "name": "python38332bit2809daf73b9a44449d537f5e8140039f",
   "display_name": "Python 3.8.3 32-bit",
   "language": "python"
  }
 },
 "nbformat": 4,
 "nbformat_minor": 2,
 "cells": [
  {
   "cell_type": "code",
   "execution_count": 1,
   "metadata": {},
   "outputs": [],
   "source": [
    "import os\n",
    "import pandas as pd \n",
    "import numpy as np "
   ]
  },
  {
   "cell_type": "code",
   "execution_count": 5,
   "metadata": {},
   "outputs": [
    {
     "output_type": "execute_result",
     "data": {
      "text/plain": [
       "['AF Conc and Kernel_ID.csv',\n",
       " 'beginners_python_cheat_sheet_pcc_all.pdf',\n",
       " 'hello_world.py',\n",
       " 'R_programming_test.html',\n",
       " 'R_test_conc_spec_384obs.csv',\n",
       " 'Spec_ID and Kernel_ID.csv',\n",
       " 'training_AF.ipynb',\n",
       " 'web_scraping.py',\n",
       " 'workspace.code-workspace']"
      ]
     },
     "metadata": {},
     "execution_count": 5
    }
   ],
   "source": [
    "os.listdir()"
   ]
  },
  {
   "source": [
    "#T1.1"
   ],
   "cell_type": "markdown",
   "metadata": {}
  },
  {
   "cell_type": "code",
   "execution_count": 11,
   "metadata": {},
   "outputs": [
    {
     "output_type": "stream",
     "name": "stdout",
     "text": [
      "<class 'pandas.core.frame.DataFrame'>\nRangeIndex: 480 entries, 0 to 479\nData columns (total 2 columns):\n #   Column     Non-Null Count  Dtype  \n---  ------     --------------  -----  \n 0   Kernel_ID  480 non-null    object \n 1   AF         480 non-null    float64\ndtypes: float64(1), object(1)\nmemory usage: 5.7+ KB\n"
     ]
    },
    {
     "output_type": "execute_result",
     "data": {
      "text/plain": [
       "  Kernel_ID           AF\n",
       "0     AF_A1  2645.397000\n",
       "1     AF_A2     2.903911\n",
       "2     AF_A3  6100.189000\n",
       "3     AF_A4     4.943678\n",
       "4     AF_A5     4.322964"
      ],
      "text/html": "<div>\n<style scoped>\n    .dataframe tbody tr th:only-of-type {\n        vertical-align: middle;\n    }\n\n    .dataframe tbody tr th {\n        vertical-align: top;\n    }\n\n    .dataframe thead th {\n        text-align: right;\n    }\n</style>\n<table border=\"1\" class=\"dataframe\">\n  <thead>\n    <tr style=\"text-align: right;\">\n      <th></th>\n      <th>Kernel_ID</th>\n      <th>AF</th>\n    </tr>\n  </thead>\n  <tbody>\n    <tr>\n      <th>0</th>\n      <td>AF_A1</td>\n      <td>2645.397000</td>\n    </tr>\n    <tr>\n      <th>1</th>\n      <td>AF_A2</td>\n      <td>2.903911</td>\n    </tr>\n    <tr>\n      <th>2</th>\n      <td>AF_A3</td>\n      <td>6100.189000</td>\n    </tr>\n    <tr>\n      <th>3</th>\n      <td>AF_A4</td>\n      <td>4.943678</td>\n    </tr>\n    <tr>\n      <th>4</th>\n      <td>AF_A5</td>\n      <td>4.322964</td>\n    </tr>\n  </tbody>\n</table>\n</div>"
     },
     "metadata": {},
     "execution_count": 11
    }
   ],
   "source": [
    "conc = pd.read_csv(\"AF Conc and Kernel_ID.csv\", header=0)\n",
    "conc.info()\n",
    "conc.head()"
   ]
  },
  {
   "cell_type": "code",
   "execution_count": 12,
   "metadata": {},
   "outputs": [
    {
     "output_type": "stream",
     "name": "stdout",
     "text": [
      "<class 'pandas.core.frame.DataFrame'>\nRangeIndex: 480 entries, 0 to 479\nData columns (total 2 columns):\n #   Column     Non-Null Count  Dtype \n---  ------     --------------  ----- \n 0   Spec_ID    480 non-null    object\n 1   Kernel_ID  480 non-null    object\ndtypes: object(2)\nmemory usage: 3.8+ KB\n"
     ]
    },
    {
     "output_type": "execute_result",
     "data": {
      "text/plain": [
       "          Spec_ID Kernel_ID\n",
       "0  Af1_000001.dat      A1-1\n",
       "1  Af1_000002.dat      A1-2\n",
       "2  Af1_000003.dat      A1-3\n",
       "3  Af1_000004.dat      A1-4\n",
       "4  Af1_000005.dat      A1-5"
      ],
      "text/html": "<div>\n<style scoped>\n    .dataframe tbody tr th:only-of-type {\n        vertical-align: middle;\n    }\n\n    .dataframe tbody tr th {\n        vertical-align: top;\n    }\n\n    .dataframe thead th {\n        text-align: right;\n    }\n</style>\n<table border=\"1\" class=\"dataframe\">\n  <thead>\n    <tr style=\"text-align: right;\">\n      <th></th>\n      <th>Spec_ID</th>\n      <th>Kernel_ID</th>\n    </tr>\n  </thead>\n  <tbody>\n    <tr>\n      <th>0</th>\n      <td>Af1_000001.dat</td>\n      <td>A1-1</td>\n    </tr>\n    <tr>\n      <th>1</th>\n      <td>Af1_000002.dat</td>\n      <td>A1-2</td>\n    </tr>\n    <tr>\n      <th>2</th>\n      <td>Af1_000003.dat</td>\n      <td>A1-3</td>\n    </tr>\n    <tr>\n      <th>3</th>\n      <td>Af1_000004.dat</td>\n      <td>A1-4</td>\n    </tr>\n    <tr>\n      <th>4</th>\n      <td>Af1_000005.dat</td>\n      <td>A1-5</td>\n    </tr>\n  </tbody>\n</table>\n</div>"
     },
     "metadata": {},
     "execution_count": 12
    }
   ],
   "source": [
    "spec = pd.read_csv(\"Spec_ID and Kernel_ID.csv\", header = 0)\n",
    "spec.info()\n",
    "spec.head()"
   ]
  },
  {
   "source": [
    "#T1.2 Vector Class conversion\n",
    "#T1.3 Data merging"
   ],
   "cell_type": "markdown",
   "metadata": {}
  },
  {
   "cell_type": "code",
   "execution_count": 15,
   "metadata": {},
   "outputs": [
    {
     "output_type": "stream",
     "name": "stdout",
     "text": [
      "<class 'pandas.core.frame.DataFrame'>\nRangeIndex: 480 entries, 0 to 479\nData columns (total 3 columns):\n #   Column     Non-Null Count  Dtype  \n---  ------     --------------  -----  \n 0   Kernel_ID  480 non-null    object \n 1   AF         480 non-null    float64\n 2   Spec_ID    480 non-null    object \ndtypes: float64(1), object(2)\nmemory usage: 7.6+ KB\n"
     ]
    },
    {
     "output_type": "execute_result",
     "data": {
      "text/plain": [
       "  Kernel_ID           AF       Spec_ID\n",
       "0     AF_A1  2645.397000  af000001.dat\n",
       "1     AF_A2     2.903911  af000002.dat\n",
       "2     AF_A3  6100.189000  af000003.dat\n",
       "3     AF_A4     4.943678  af000004.dat\n",
       "4     AF_A5     4.322964  af000005.dat"
      ],
      "text/html": "<div>\n<style scoped>\n    .dataframe tbody tr th:only-of-type {\n        vertical-align: middle;\n    }\n\n    .dataframe tbody tr th {\n        vertical-align: top;\n    }\n\n    .dataframe thead th {\n        text-align: right;\n    }\n</style>\n<table border=\"1\" class=\"dataframe\">\n  <thead>\n    <tr style=\"text-align: right;\">\n      <th></th>\n      <th>Kernel_ID</th>\n      <th>AF</th>\n      <th>Spec_ID</th>\n    </tr>\n  </thead>\n  <tbody>\n    <tr>\n      <th>0</th>\n      <td>AF_A1</td>\n      <td>2645.397000</td>\n      <td>af000001.dat</td>\n    </tr>\n    <tr>\n      <th>1</th>\n      <td>AF_A2</td>\n      <td>2.903911</td>\n      <td>af000002.dat</td>\n    </tr>\n    <tr>\n      <th>2</th>\n      <td>AF_A3</td>\n      <td>6100.189000</td>\n      <td>af000003.dat</td>\n    </tr>\n    <tr>\n      <th>3</th>\n      <td>AF_A4</td>\n      <td>4.943678</td>\n      <td>af000004.dat</td>\n    </tr>\n    <tr>\n      <th>4</th>\n      <td>AF_A5</td>\n      <td>4.322964</td>\n      <td>af000005.dat</td>\n    </tr>\n  </tbody>\n</table>\n</div>"
     },
     "metadata": {},
     "execution_count": 15
    }
   ],
   "source": [
    "df_combined = conc.join(spec.set_index('Kernel_ID'), on = 'Kernel_ID')\n",
    "df_combined.info()\n",
    "df_combined.head()"
   ]
  }
 ]
}